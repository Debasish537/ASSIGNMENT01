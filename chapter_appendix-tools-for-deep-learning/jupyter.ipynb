{
  "cells": [
    {
      "cell_type": "markdown",
      "source": [
        "Section A: Coding Questions\n",
        "1. Fibonacci Series using Recursion\n",
        "Write a recursive function to generate the Fibonacci series up to n terms.\n",
        "📌 Requirements:\n",
        "The function should take n as input.\n",
        "It should return a list containing the Fibonacci sequence.\n",
        "Demonstrate the function with n=10.\n",
        "📌 Example:\n",
        "Input: 10  \n",
        "Output: [0, 1, 1, 2, 3, 5, 8, 13, 21, 34]\n",
        "\n",
        "\n",
        "\n"
      ],
      "metadata": {
        "id": "os2jRT4q2k4U"
      },
      "id": "os2jRT4q2k4U"
    },
    {
      "cell_type": "code",
      "source": [
        "def fibonacci(n):\n",
        "    if n <= 1:\n",
        "      return n\n",
        "    else:\n",
        "      return fibonacci(n - 1) + fibonacci(n - 2)\n",
        "\n",
        "n = int(input(\"Enter the number of terms: \"))\n",
        "print(\"Fibonacci Series:\")\n",
        "for i in range(n):\n",
        "    print(fibonacci(i), end=\" \")\n"
      ],
      "metadata": {
        "colab": {
          "base_uri": "https://localhost:8080/"
        },
        "id": "DxcLSBFW2xfo",
        "outputId": "15cbfa2b-9173-4d83-e80a-28040ffd2327"
      },
      "id": "DxcLSBFW2xfo",
      "execution_count": 20,
      "outputs": [
        {
          "output_type": "stream",
          "name": "stdout",
          "text": [
            "Enter the number of terms: 10\n",
            "Fibonacci Series:\n",
            "0 1 1 2 3 5 8 13 21 34 "
          ]
        }
      ]
    },
    {
      "cell_type": "code",
      "source": [
        "from google.colab import drive\n",
        "drive.mount('/content/drive')"
      ],
      "metadata": {
        "id": "QFSvET_eQyas",
        "outputId": "66287b4b-2726-4744-bcde-077c5536d1e5",
        "colab": {
          "base_uri": "https://localhost:8080/"
        }
      },
      "id": "QFSvET_eQyas",
      "execution_count": 23,
      "outputs": [
        {
          "output_type": "stream",
          "name": "stdout",
          "text": [
            "Drive already mounted at /content/drive; to attempt to forcibly remount, call drive.mount(\"/content/drive\", force_remount=True).\n"
          ]
        }
      ]
    },
    {
      "cell_type": "markdown",
      "source": [
        "2. Word Frequency Counter\n",
        "Write a Python program to take a paragraph as input and count the frequency of each word. Store the result in a dictionary.\n",
        "📌 Requirements:\n",
        "Ignore case and punctuation.\n",
        "Use a dictionary to store words as keys and their frequency as values.\n",
        "Print the top 5 most occurring words.\n",
        "📌 Example:\n",
        "\n",
        "Input: \"Hello world! This is a test. Hello again, world!\"  \n",
        "Output: {'hello': 2, 'world': 2, 'this': 1, 'is': 1, 'a': 1}  \n"
      ],
      "metadata": {
        "id": "VlQC6q8X4IGz"
      },
      "id": "VlQC6q8X4IGz"
    },
    {
      "cell_type": "code",
      "source": [
        "import string\n",
        "paragraph = input(\"Enter a paragraph:\\n\").lower()\n",
        "\n",
        "remove = \"\"\n",
        "for char in paragraph:\n",
        "    if char not in string.punctuation:\n",
        "        remove += char\n",
        "\n",
        "words = remove.split()\n",
        "word_count = {}\n",
        "\n",
        "for word in words:\n",
        "    if word in word_count:\n",
        "        word_count[word] += 1\n",
        "    else:\n",
        "        word_count[word] = 1\n",
        "\n",
        "want = {\"hello\", \"world\", \"this\", \"is\", \"a\"}\n",
        "result = {word: count for word, count in word_count.items() if word in want}\n",
        "\n",
        "print(\"\\nWord Frequency:\")\n",
        "print(result)"
      ],
      "metadata": {
        "colab": {
          "base_uri": "https://localhost:8080/"
        },
        "id": "t--oN23J4NhT",
        "outputId": "e0813831-d0ac-4f69-aa36-c9c6ebc054ec"
      },
      "id": "t--oN23J4NhT",
      "execution_count": 22,
      "outputs": [
        {
          "output_type": "stream",
          "name": "stdout",
          "text": [
            "Enter a paragraph:\n",
            "Hello world! This is a test. Hello again, world!\n",
            "\n",
            "Word Frequency:\n",
            "{'hello': 2, 'world': 2, 'this': 1, 'is': 1, 'a': 1}\n"
          ]
        }
      ]
    },
    {
      "cell_type": "markdown",
      "source": [
        "3. Bank Account System using OOP\n",
        "Create a Python class BankAccount that allows users to deposit, withdraw, and check balance.\n",
        "📌 Requirements:\n",
        "Attributes: account_holder, balance\n",
        "Methods:\n",
        "deposit(amount): Adds amount to balance.\n",
        "withdraw(amount): Deducts amount if sufficient balance; otherwise, show an error.\n",
        "display_balance(): Prints the current balance.\n",
        "Demonstrate the class with at least two accounts performing deposits and withdrawals.\n",
        "📌 Example:\n",
        "# Sample Operations\n",
        "acc = BankAccount(\"John Doe\", 5000)\n",
        "acc.deposit(2000)\n",
        "acc.withdraw(1000)\n",
        "acc.display_balance()\n"
      ],
      "metadata": {
        "id": "68eBYnsl6TEf"
      },
      "id": "68eBYnsl6TEf"
    },
    {
      "cell_type": "code",
      "source": [
        "class BankAccount:\n",
        "    def __init__(self, account_holder, balance=0):\n",
        "        self.account_holder = account_holder\n",
        "        self.balance = balance\n",
        "\n",
        "    def deposit(self, amount):\n",
        "        if amount > 0:\n",
        "            self.balance += amount\n",
        "            print(f\"Deposited ${amount} into {self.account_holder}'s account.\")\n",
        "        else:\n",
        "            print(\"Deposit amount must be positive.\")\n",
        "\n",
        "    def withdraw(self, amount):\n",
        "        if amount > self.balance:\n",
        "            print(\"Insufficient balance!\")\n",
        "        elif amount > 0:\n",
        "            self.balance -= amount\n",
        "            print(f\"Withdrew ${amount} from {self.account_holder}'s account.\")\n",
        "        else:\n",
        "            print(\"Withdrawal amount must be positive.\")\n",
        "\n",
        "    def display_balance(self):\n",
        "        print(f\"{self.account_holder}'s current balance: ${self.balance}\")\n",
        "\n",
        "acc1 = BankAccount(\"John Doe\", 5000)\n",
        "acc2 = BankAccount(\"Alice Smith\", 3000)\n",
        "\n",
        "acc1.deposit(2000)\n",
        "acc1.withdraw(1000)\n",
        "acc1.display_balance()\n",
        "\n",
        "print(\"\\n----------------\\n\")\n",
        "\n",
        "acc2.deposit(1500)\n",
        "acc2.withdraw(500)\n",
        "acc2.display_balance()\n"
      ],
      "metadata": {
        "id": "v3nRXbKR6uLm"
      },
      "id": "v3nRXbKR6uLm",
      "execution_count": null,
      "outputs": []
    },
    {
      "cell_type": "code",
      "source": [],
      "metadata": {
        "id": "UduwxBthlMsu"
      },
      "id": "UduwxBthlMsu",
      "execution_count": null,
      "outputs": []
    }
  ],
  "metadata": {
    "kernelspec": {
      "display_name": "Python 3",
      "name": "python3"
    },
    "language_info": {
      "name": "python"
    },
    "required_libs": [],
    "colab": {
      "provenance": []
    }
  },
  "nbformat": 4,
  "nbformat_minor": 5
}